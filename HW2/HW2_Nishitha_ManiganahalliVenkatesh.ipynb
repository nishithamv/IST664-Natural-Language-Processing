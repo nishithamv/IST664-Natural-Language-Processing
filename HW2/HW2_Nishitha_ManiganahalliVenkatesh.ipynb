{
 "cells": [
  {
   "cell_type": "code",
   "execution_count": 2,
   "metadata": {},
   "outputs": [],
   "source": [
    "#reading the data from csv\n",
    "\n",
    "import pandas as pd\n",
    "\n",
    "covid = pd.read_csv('test.csv')"
   ]
  },
  {
   "cell_type": "code",
   "execution_count": 2,
   "metadata": {},
   "outputs": [],
   "source": [
    "#changing text data to string\n",
    "\n",
    "str1 = ''.join(list(covid['text']))"
   ]
  },
  {
   "cell_type": "code",
   "execution_count": 3,
   "metadata": {},
   "outputs": [],
   "source": [
    "#extracting individual sentences using sentence segmenter\n",
    "\n",
    "import nltk\n",
    "\n",
    "sentences = nltk.sent_tokenize(str1)"
   ]
  },
  {
   "cell_type": "code",
   "execution_count": 5,
   "metadata": {},
   "outputs": [],
   "source": [
    "#tokenizing each sentence using word tokenizer\n",
    "\n",
    "tokens = [nltk.word_tokenize(sent) for sent in sentences]"
   ]
  },
  {
   "cell_type": "code",
   "execution_count": 7,
   "metadata": {},
   "outputs": [],
   "source": [
    "#POS tagging the tokens\n",
    "\n",
    "tags = [nltk.pos_tag(tok) for tok in tokens]"
   ]
  },
  {
   "cell_type": "code",
   "execution_count": 26,
   "metadata": {},
   "outputs": [],
   "source": [
    "#sentences with exclamation\n",
    "\n",
    "excla =[ ]\n",
    "for i in range(0,len(tokens)):\n",
    "    if '!' in tokens[i][0]:\n",
    "        excla.append(tokens[i])"
   ]
  },
  {
   "cell_type": "code",
   "execution_count": 10,
   "metadata": {},
   "outputs": [],
   "source": [
    "#writing grammar for adjectives\n",
    "\n",
    "grammar = r\"\"\"\n",
    "    AP: {<JJ+>}\n",
    "\"\"\"\n",
    "cp = nltk.RegexpParser(grammar)\n",
    "adj = cp.parse(tags[0])"
   ]
  },
  {
   "cell_type": "code",
   "execution_count": 13,
   "metadata": {},
   "outputs": [],
   "source": [
    "#trees with adjective\n",
    "\n",
    "trees = []\n",
    "for tag in tags:\n",
    "    tree = cp.parse(tag)\n",
    "    for subtree in tree.subtrees():\n",
    "        if subtree.label() == 'AP':\n",
    "            trees.append(tree)\n",
    "            break"
   ]
  },
  {
   "cell_type": "code",
   "execution_count": 27,
   "metadata": {},
   "outputs": [],
   "source": [
    "trees.extend(excla)"
   ]
  },
  {
   "cell_type": "code",
   "execution_count": 28,
   "metadata": {},
   "outputs": [
    {
     "data": {
      "text/plain": [
       "33.331523657776565"
      ]
     },
     "execution_count": 28,
     "metadata": {},
     "output_type": "execute_result"
    }
   ],
   "source": [
    "#average length of a sentence\n",
    "\n",
    "sum1 = 0\n",
    "for i in range(0, len(trees)):\n",
    "    sum1 += len(trees[i])\n",
    "    \n",
    "sum1 / len(trees)"
   ]
  },
  {
   "cell_type": "code",
   "execution_count": 15,
   "metadata": {},
   "outputs": [],
   "source": [
    "import itertools\n",
    "\n",
    "all_tags = list(itertools.chain.from_iterable(tags))\n",
    "\n",
    "cfd = nltk.ConditionalFreqDist(((tag, word) for (word, tag) in all_tags))"
   ]
  },
  {
   "cell_type": "code",
   "execution_count": 23,
   "metadata": {},
   "outputs": [
    {
     "data": {
      "text/plain": [
       "['new',\n",
       " 'Chinese',\n",
       " 'other',\n",
       " 'last',\n",
       " 'first',\n",
       " 'global',\n",
       " 's',\n",
       " 'public',\n",
       " '“',\n",
       " 'due',\n",
       " 'many',\n",
       " 'medical',\n",
       " 'such',\n",
       " 'novel',\n",
       " 'economic',\n",
       " '’',\n",
       " 'positive',\n",
       " 'local',\n",
       " 'international',\n",
       " 'same',\n",
       " 'next',\n",
       " 'confirmed',\n",
       " 'major',\n",
       " 'good',\n",
       " 'epidemic',\n",
       " 'central',\n",
       " 'financial',\n",
       " 'recent',\n",
       " 'second',\n",
       " 'early',\n",
       " 'possible',\n",
       " 'current',\n",
       " 'negative',\n",
       " 'social',\n",
       " 'several',\n",
       " 'total',\n",
       " 'Japanese',\n",
       " 'further',\n",
       " 'high',\n",
       " 'few',\n",
       " 'likely',\n",
       " 'much',\n",
       " 'full',\n",
       " 'strong',\n",
       " 'past',\n",
       " 'potential',\n",
       " 'top',\n",
       " 'own',\n",
       " '”',\n",
       " 'low']"
      ]
     },
     "execution_count": 23,
     "metadata": {},
     "output_type": "execute_result"
    }
   ],
   "source": [
    "#top 50 adjectives\n",
    "\n",
    "list(cfd['JJ'])[0:50]"
   ]
  },
  {
   "cell_type": "code",
   "execution_count": 18,
   "metadata": {},
   "outputs": [
    {
     "data": {
      "text/plain": [
       "['coronavirus',\n",
       " 'virus',\n",
       " '%',\n",
       " 'outbreak',\n",
       " 'health',\n",
       " '“',\n",
       " 'year',\n",
       " 'government',\n",
       " 's',\n",
       " 'text',\n",
       " 'time',\n",
       " 'ship',\n",
       " 'week',\n",
       " 'number',\n",
       " '”',\n",
       " ']',\n",
       " 'world',\n",
       " 'country',\n",
       " 'location',\n",
       " 'disease',\n",
       " 'market',\n",
       " 'company',\n",
       " 'spread',\n",
       " 'growth',\n",
       " 'day',\n",
       " 'quarantine',\n",
       " 'city',\n",
       " 'home',\n",
       " 'news',\n",
       " 'economy',\n",
       " 'cruise',\n",
       " 'impact',\n",
       " 'travel',\n",
       " 'case',\n",
       " 'province',\n",
       " 'death',\n",
       " 't',\n",
       " 'business',\n",
       " 'risk',\n",
       " 'name',\n",
       " 'information',\n",
       " 'hospital',\n",
       " 'quarter',\n",
       " 'type',\n",
       " 'month',\n",
       " 'infection',\n",
       " 'trade',\n",
       " 'production',\n",
       " 'percent',\n",
       " 'cent']"
      ]
     },
     "execution_count": 18,
     "metadata": {},
     "output_type": "execute_result"
    }
   ],
   "source": [
    "#top 50 nouns\n",
    "\n",
    "list(cfd['NN'])[0:50]"
   ]
  },
  {
   "cell_type": "code",
   "execution_count": 19,
   "metadata": {},
   "outputs": [
    {
     "data": {
      "text/plain": [
       "['be',\n",
       " 'have',\n",
       " '[',\n",
       " 'take',\n",
       " 'get',\n",
       " '“',\n",
       " 'make',\n",
       " 'help',\n",
       " 'see',\n",
       " 'do',\n",
       " 'go',\n",
       " 'keep',\n",
       " 'work',\n",
       " 'continue',\n",
       " 'prevent',\n",
       " 'contain',\n",
       " 'stay',\n",
       " 'ensure',\n",
       " 'provide',\n",
       " 'know',\n",
       " 'come',\n",
       " 'spread',\n",
       " 'leave',\n",
       " 'find',\n",
       " 'avoid',\n",
       " 'stop',\n",
       " 'use',\n",
       " 'say',\n",
       " 'protect',\n",
       " 'remain',\n",
       " 'support',\n",
       " 'reduce',\n",
       " 'give',\n",
       " 'return',\n",
       " 'bring',\n",
       " 'start',\n",
       " '”',\n",
       " 'need',\n",
       " 'allow',\n",
       " 'buy',\n",
       " 'travel',\n",
       " 'try',\n",
       " 'follow',\n",
       " 'become',\n",
       " 'put',\n",
       " 'cause',\n",
       " '’',\n",
       " 'develop',\n",
       " 'end',\n",
       " 'show']"
      ]
     },
     "execution_count": 19,
     "metadata": {},
     "output_type": "execute_result"
    }
   ],
   "source": [
    "#top 50 verbs\n",
    "\n",
    "list(cfd['VB'])[0:50]"
   ]
  },
  {
   "cell_type": "code",
   "execution_count": 1,
   "metadata": {},
   "outputs": [
    {
     "ename": "NameError",
     "evalue": "name 'covid' is not defined",
     "output_type": "error",
     "traceback": [
      "\u001b[0;31m---------------------------------------------------------------------------\u001b[0m",
      "\u001b[0;31mNameError\u001b[0m                                 Traceback (most recent call last)",
      "\u001b[0;32m<ipython-input-1-d36b934bb552>\u001b[0m in \u001b[0;36m<module>\u001b[0;34m\u001b[0m\n\u001b[0;32m----> 1\u001b[0;31m \u001b[0mlen\u001b[0m\u001b[0;34m(\u001b[0m\u001b[0mlist\u001b[0m\u001b[0;34m(\u001b[0m\u001b[0mcovid\u001b[0m\u001b[0;34m[\u001b[0m\u001b[0;34m'text'\u001b[0m\u001b[0;34m]\u001b[0m\u001b[0;34m)\u001b[0m\u001b[0;34m)\u001b[0m\u001b[0;34m\u001b[0m\u001b[0;34m\u001b[0m\u001b[0m\n\u001b[0m",
      "\u001b[0;31mNameError\u001b[0m: name 'covid' is not defined"
     ]
    }
   ],
   "source": [
    "len(list(covid['text']))"
   ]
  },
  {
   "cell_type": "code",
   "execution_count": null,
   "metadata": {},
   "outputs": [],
   "source": []
  }
 ],
 "metadata": {
  "kernelspec": {
   "display_name": "Python 3",
   "language": "python",
   "name": "python3"
  },
  "language_info": {
   "codemirror_mode": {
    "name": "ipython",
    "version": 3
   },
   "file_extension": ".py",
   "mimetype": "text/x-python",
   "name": "python",
   "nbconvert_exporter": "python",
   "pygments_lexer": "ipython3",
   "version": "3.7.4"
  }
 },
 "nbformat": 4,
 "nbformat_minor": 2
}
